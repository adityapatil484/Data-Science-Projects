{
 "cells": [
  {
   "cell_type": "markdown",
   "metadata": {},
   "source": [
    "# Simulation Assignment"
   ]
  },
  {
   "cell_type": "markdown",
   "metadata": {},
   "source": [
    "# Coin toss\n"
   ]
  },
  {
   "cell_type": "code",
   "execution_count": 1,
   "metadata": {},
   "outputs": [
    {
     "name": "stdout",
     "output_type": "stream",
     "text": [
      "[1.0, 1.0408163265306123, 1.0366598778004072, 0.9857029388403494, 1.0034459269944305, 1.0005601568439162, 0.9988370765888406]\n"
     ]
    },
    {
     "data": {
      "text/plain": [
       "Text(0, 0.5, 'Ratio of heads/tails')"
      ]
     },
     "execution_count": 1,
     "metadata": {},
     "output_type": "execute_result"
    }
   ],
   "source": [
    "import numpy as np\n",
    "import pandas as pd\n",
    "import matplotlib.pyplot as plt\n",
    "\n",
    "result = []\n",
    "for i in range(1,8):\n",
    "        c = np.random.randint(0,2,10**i)\n",
    "        heads = (c == 0).sum()\n",
    "        tails = (c == 1).sum()\n",
    "        ratio = heads/tails\n",
    "        result.append(ratio)\n",
    "\n",
    "print(result)\n",
    "\n",
    "arr1 = np.array(result)\n",
    "\n",
    "x = np.array([10**i for i in range(1,8)])\n",
    "\n",
    "\n",
    "plt.scatter(np.log(x),arr1)\n",
    "plt.grid(True)\n",
    "plt.title('Scatter plot of coin toss')\n",
    "plt.xlabel('Log of number of coin tosses')\n",
    "plt.ylabel('Ratio of heads/tails')"
   ]
  },
  {
   "cell_type": "markdown",
   "metadata": {},
   "source": [
    "# Dice "
   ]
  },
  {
   "cell_type": "code",
   "execution_count": 5,
   "metadata": {},
   "outputs": [
    {
     "data": {
      "text/plain": [
       "Text(0.5, 0, 'Sum')"
      ]
     },
     "execution_count": 5,
     "metadata": {},
     "output_type": "execute_result"
    },
    {
     "data": {
      "image/png": "[encoded data removed]",
      "text/plain": [
       "<Figure size 432x288 with 1 Axes>"
      ]
     },
     "metadata": {
      "needs_background": "light"
     },
     "output_type": "display_data"
    }
   ],
   "source": [
    "die1 = np.random.randint(1,7,10000)\n",
    "\n",
    "ones = (die1==1).sum()\n",
    "twos = (die1==2).sum()\n",
    "threes = (die1==3).sum()\n",
    "fours = (die1==4).sum()\n",
    "fives = (die1==5).sum()\n",
    "sixes = (die1==6).sum()\n",
    "\n",
    "p1 = [ones,twos,threes,fours,fives,sixes]\n",
    "\n",
    "die2 = np.random.randint(1,7,10000)\n",
    "\n",
    "ones = (die2==1).sum()\n",
    "twos = (die2==2).sum()\n",
    "threes = (die2==3).sum()\n",
    "fours = (die2==4).sum()\n",
    "fives = (die2==5).sum()\n",
    "sixes = (die2==6).sum()\n",
    "\n",
    "p2 = [ones,twos,threes,fours,fives,sixes]\n",
    "\n",
    "die = die1 + die2\n",
    "\n",
    "plt.hist(die, bins = 11, color = 'red')\n",
    "plt.grid(True)\n",
    "plt.xlabel('Sum')"
   ]
  },
  {
   "cell_type": "markdown",
   "metadata": {},
   "source": [
    "# 1D Random Walk"
   ]
  },
  {
   "cell_type": "code",
   "execution_count": null,
   "metadata": {},
   "outputs": [],
   "source": [
    "import random\n",
    "walk = []\n",
    "distance = []\n",
    "steps = 100000\n",
    "position = 0\n",
    "for j in range(100):\n",
    "    for i in range(steps):\n",
    "        r = random.choice([0,1])\n",
    "        if r == 0:\n",
    "            step = position + 1\n",
    "        else:\n",
    "            step = position -1\n",
    "        walk.append(step)\n",
    "    distance.append(walk[-1])\n",
    "\n",
    "plt.hist(distance)\n"
   ]
  },
  {
   "cell_type": "markdown",
   "metadata": {},
   "source": [
    "# 2D Random Walk"
   ]
  },
  {
   "cell_type": "code",
   "execution_count": null,
   "metadata": {},
   "outputs": [],
   "source": [
    "import random \n",
    "  \n",
    "\n",
    "n = 100000 \n",
    "x = numpy.zeros(n) \n",
    "y = numpy.zeros(n) \n",
    "  \n",
    "for i in range(1, n): \n",
    "    rr = random.randint(1, 4) \n",
    "    if rr == 1: \n",
    "        x[i] = x[i - 1] + 1\n",
    "        y[i] = y[i - 1] \n",
    "    elif rr == 2: \n",
    "        x[i] = x[i - 1] - 1\n",
    "        y[i] = y[i - 1] \n",
    "    elif rr == 3: \n",
    "        x[i] = x[i - 1] \n",
    "        y[i] = y[i - 1] + 1\n",
    "    else: \n",
    "        x[i] = x[i - 1] \n",
    "        y[i] = y[i - 1] - 1\n",
    "      \n",
    "plt.show()\n"
   ]
  },
  {
   "cell_type": "markdown",
   "metadata": {},
   "source": [
    "# 3D Random Walk"
   ]
  },
  {
   "cell_type": "code",
   "execution_count": null,
   "metadata": {},
   "outputs": [],
   "source": [
    "import random\n",
    "\n",
    "n = 100000 \n",
    "x = numpy.zeros(n) \n",
    "y = numpy.zeros(n)\n",
    "z = numpy.zeros(n)\n",
    "  \n",
    "for i in range(1, n): \n",
    "    rr = random.randint(1, 6) \n",
    "    if rr == 1: \n",
    "        x[i] = x[i - 1] + 1\n",
    "        y[i] = y[i - 1]\n",
    "        z[i] = z[i - 1]\n",
    "    elif rr == 2: \n",
    "        x[i] = x[i - 1] - 1\n",
    "        y[i] = y[i - 1]\n",
    "        z[i] = z[i - 1]\n",
    "    elif rr == 3: \n",
    "        x[i] = x[i - 1] \n",
    "        y[i] = y[i - 1] + 1\n",
    "        z[i] = z[i - 1]\n",
    "    elif rr == 4:\n",
    "        x[i] = x[i - 1] \n",
    "        y[i] = y[i - 1] - 1\n",
    "        z[i] = z[i - 1]\n",
    "    elif rr == 5:\n",
    "        x[i] = x[i - 1] \n",
    "        y[i] = y[i - 1]\n",
    "        z[i] = z[i - 1] + 1\n",
    "    else:\n",
    "        x[i] = x[i - 1] \n",
    "        y[i] = y[i - 1]\n",
    "        z[i] = z[i - 1] - 1\n",
    "\n",
    "plt.show()\n",
    "        "
   ]
  },
  {
   "cell_type": "markdown",
   "metadata": {},
   "source": [
    "# Buffon's Needle"
   ]
  },
  {
   "cell_type": "code",
   "execution_count": 64,
   "metadata": {},
   "outputs": [
    {
     "data": {
      "text/plain": [
       "[<matplotlib.lines.Line2D at 0x20b01424c18>]"
      ]
     },
     "execution_count": 64,
     "metadata": {},
     "output_type": "execute_result"
    },
    {
     "data": {
      "image/png": "[encoded data removed]",
      "text/plain": [
       "<Figure size 432x288 with 1 Axes>"
      ]
     },
     "metadata": {
      "needs_background": "light"
     },
     "output_type": "display_data"
    }
   ],
   "source": [
    "import random\n",
    "import math\n",
    "\n",
    "piEst = []\n",
    "\n",
    "for i in range(1,8):\n",
    "    n = 10**i\n",
    "    inCircle = 0\n",
    "    for j in range(n):\n",
    "        x = random.uniform(-1,1)\n",
    "        y = random.uniform(-1,1)\n",
    "        if ((x**2) + (y**2)) <= 1:\n",
    "            inCircle += 1   \n",
    "    piEst.append(4*inCircle/n)\n",
    "\n",
    "piDiff = []\n",
    "\n",
    "for i in range(0,7):\n",
    "    est = abs((math.pi) - pivalues[i])\n",
    "    piDiff.append(est)\n",
    "\n",
    "\n",
    "plt.plot(piEst)\n",
    "\n"
   ]
  },
  {
   "cell_type": "code",
   "execution_count": 63,
   "metadata": {},
   "outputs": [
    {
     "data": {
      "text/plain": [
       "[<matplotlib.lines.Line2D at 0x20b013bdda0>]"
      ]
     },
     "execution_count": 63,
     "metadata": {},
     "output_type": "execute_result"
    },
    {
     "data": {
      "image/png": "[encoded data removed]",
      "text/plain": [
       "<Figure size 432x288 with 1 Axes>"
      ]
     },
     "metadata": {
      "needs_background": "light"
     },
     "output_type": "display_data"
    }
   ],
   "source": [
    "plt.plot(piDiff)"
   ]
  },
  {
   "cell_type": "markdown",
   "metadata": {},
   "source": [
    "# Poker "
   ]
  },
  {
   "cell_type": "code",
   "execution_count": 6,
   "metadata": {},
   "outputs": [
    {
     "name": "stdout",
     "output_type": "stream",
     "text": [
      "Please enter the number of iterations: 10000000\n",
      "Probability of Royal Flush:  1.9e-06\n",
      "Probability of Straight Flush:  0.0016296\n",
      "Probability of Four of a Kind:  0.0021475\n",
      "Probability of a Two Pair:  0.0505075\n",
      "Probability of a Pair:  0.5317017\n"
     ]
    }
   ],
   "source": [
    "import random\n",
    "\n",
    "royal_flush = 0\n",
    "straight_flush = 0\n",
    "four_of_the_kind = 0\n",
    "two_pair = 0\n",
    "pair = 0\n",
    "\n",
    "\n",
    "def inSequence(val):\n",
    "    seq = 0\n",
    "    result = False\n",
    "    for i in range(0,4):\n",
    "        if val[i] < val[i+1]:\n",
    "            seq += 1\n",
    "    if seq == 4:\n",
    "        result = True\n",
    "    return result\n",
    "\n",
    "itr = int(input(\"Please enter the number of iterations: \"))\n",
    "\n",
    "for i in range(itr):\n",
    "    val=[]\n",
    "    suit=[]\n",
    "    for i in range(0,5):\n",
    "        values = random.randint(2,14)\n",
    "        suits = random.randint(1,4)\n",
    "        val.append(values)\n",
    "        suit.append(suits)\n",
    "\n",
    "    val.sort()\n",
    "    suit.sort()\n",
    "\n",
    "#royal flush checker   \n",
    "    if suit[0] == suit[1] == suit[2] == suit[3] == suit[4]:\n",
    "        if val ==[ 10,11,12,13,14]:\n",
    "            royal_flush += 1\n",
    "#straight flush checker \n",
    "        elif inSequence(val)== True:\n",
    "            straight_flush += 1\n",
    "\n",
    "#four of a kind\n",
    "    if val[0] == val[1] == val[2] == val[3] or val[1] == val[2] == val[3] == val[4]:\n",
    "        four_of_the_kind += 1\n",
    "#Two pair\n",
    "    elif val[1] == val[2] and val[3] == val[4] or val[0] == val[1] and val[3] == val[4] or val[1] == val[2] and val[3] == val[4]:\n",
    "        two_pair += 1\n",
    "#pair \n",
    "    elif val[0] == val[1] or val[1] == val[2] or val[2] == val[3] or val[3] == val[4]:\n",
    "        pair += 1\n",
    "\n",
    "\n",
    "        \n",
    "\n",
    "prob_royal_flush = royal_flush/itr\n",
    "prob_straight_flush = straight_flush/itr\n",
    "prob_4_of_the_kind = four_of_the_kind/itr\n",
    "prob_2_pair = two_pair/itr\n",
    "prob_pair = pair/itr\n",
    "\n",
    "\n",
    "print(\"Probability of Royal Flush: \",prob_royal_flush)\n",
    "print(\"Probability of Straight Flush: \",prob_straight_flush)\n",
    "print(\"Probability of Four of a Kind: \", prob_4_of_the_kind)\n",
    "print(\"Probability of a Two Pair: \",prob_2_pair)\n",
    "print(\"Probability of a Pair: \",prob_pair)\n",
    "\n"
   ]
  },
  {
   "cell_type": "code",
   "execution_count": null,
   "metadata": {},
   "outputs": [],
   "source": []
  }
 ],
 "metadata": {
  "kernelspec": {
   "display_name": "Python 3",
   "language": "python",
   "name": "python3"
  },
  "language_info": {
   "codemirror_mode": {
    "name": "ipython",
    "version": 3
   },
   "file_extension": ".py",
   "mimetype": "text/x-python",
   "name": "python",
   "nbconvert_exporter": "python",
   "pygments_lexer": "ipython3",
   "version": "3.7.1"
  }
 },
 "nbformat": 4,
 "nbformat_minor": 2
}
